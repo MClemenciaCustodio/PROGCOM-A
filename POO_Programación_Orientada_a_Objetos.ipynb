{
  "nbformat": 4,
  "nbformat_minor": 0,
  "metadata": {
    "colab": {
      "provenance": [],
      "authorship_tag": "ABX9TyOSw8spwlGz6hkUPy4ZXSlm",
      "include_colab_link": true
    },
    "kernelspec": {
      "name": "python3",
      "display_name": "Python 3"
    },
    "language_info": {
      "name": "python"
    }
  },
  "cells": [
    {
      "cell_type": "markdown",
      "metadata": {
        "id": "view-in-github",
        "colab_type": "text"
      },
      "source": [
        "<a href=\"https://colab.research.google.com/github/MClemenciaCustodio/PROGCOM-A/blob/main/POO_Programaci%C3%B3n_Orientada_a_Objetos.ipynb\" target=\"_parent\"><img src=\"https://colab.research.google.com/assets/colab-badge.svg\" alt=\"Open In Colab\"/></a>"
      ]
    },
    {
      "cell_type": "markdown",
      "source": [
        "#POO\n",
        "Paradigma de programación\n",
        "\n",
        "1. Paradigma estructurado: Se programa de arriba a abajo y se lee de izquierda a derecha.\n",
        "2. Paradigma modular: Para dividir un programa en módulos. Reutilización de código con el pegado dinámico.\n",
        "3. Programación orientada a objetos: Crear objetos a partir de un molde. Al molde, se le va a llamar \"clase\".\n",
        "\n",
        "Definición de una clase:\n",
        "\n",
        ">class nombre_de_la_clase(atributos):\n",
        ">> Constructor: En una función especial donde se inicializan los atributos.\n",
        "\n",
        ">> Todas las funciones que se deseen."
      ],
      "metadata": {
        "id": "NWYb7YQ2PsQA"
      }
    },
    {
      "cell_type": "code",
      "execution_count": 61,
      "metadata": {
        "id": "xKgfGxvMPp_b"
      },
      "outputs": [],
      "source": [
        "#Creando la clase humana\n",
        "class humano():\n",
        "  #Creando la función \"constructor\"\n",
        "  def __init__(self,nombre,ojos,cojos,boca,piernas,cpiel,estatura,peso,genero):\n",
        "    self.nombre=nombre\n",
        "    self.ojos=ojos\n",
        "    self.cojos=cojos\n",
        "    self.boca=boca\n",
        "    self.piernas=piernas\n",
        "    self.cpiel=cpiel\n",
        "    self.estatura=estatura\n",
        "    self.peso=peso\n",
        "    self.genero=genero\n",
        "  #Función tradicional o estática\n",
        "  def caminar(self,vel):\n",
        "    if self.piernas>=1 and vel<0:\n",
        "      print({self.nombre}, \" está retrocediendo\")\n",
        "      vel=-vel\n",
        "      return vel\n",
        "    else:\n",
        "      print({self.nombre}, \" va pa'lante\")\n",
        "    if vel==0: return f\"{self.nombre} está en estado de reposo\"\n",
        "    elif vel>0 and vel<=1: return f\"{self.nombre} está gateando\"\n",
        "    elif vel>1 and vel<=5: return f\"{self.nombre} está caminando\"\n",
        "    elif vel>5 and vel<=10: return f\"{self.nombre} está trotando\"\n",
        "    elif vel>10 and vel<=20: return f\"{self.nombre} está corriendo\"\n",
        "    elif vel>20: return f\"{self.nombre} es un amiguito de lo ajeno\"\n",
        "  def leer(self,libro):\n",
        "    if self.ojos>=1 and libro>0:\n",
        "      print({self.nombre}, \" está leyendo\")\n",
        "    else:\n",
        "      print({self.nombre}, \" lee braille\")\n",
        "    if libro==0: return f\"{self.nombre} no está leyendo\"\n",
        "    elif libro>1 and libro<=134: return f\"{self.nombre} lee como un niño de primaria\"\n",
        "    elif libro>134 and libro<=160: return f\"{self.nombre} lee como un estudiante de bachillerato\"\n",
        "    elif libro>160 and libro<=300: return f\"{self.nombre} tiene una velocidad de lectura promedio\"\n",
        "    elif libro>300 and libro<=500: return f\"{self.nombre} lee muy rápido\"\n",
        "    elif libro>500: return f\"{self.nombre} tiene una velocidad de lectura mucho mayor que la del promedio\""
      ]
    },
    {
      "cell_type": "code",
      "source": [
        "alexandra=humano(\"Alexa\",2,\"café\",1,2,\"blancox\",1.7,60,\"femenino\")"
      ],
      "metadata": {
        "id": "AYMP6A8nVncD"
      },
      "execution_count": 62,
      "outputs": []
    },
    {
      "cell_type": "code",
      "source": [
        "alexandra.leer(350)"
      ],
      "metadata": {
        "colab": {
          "base_uri": "https://localhost:8080/",
          "height": 55
        },
        "id": "ubOv76i4dQoc",
        "outputId": "4ecc2f6d-6743-4777-84a3-9c4fc2eff8ad"
      },
      "execution_count": 63,
      "outputs": [
        {
          "output_type": "stream",
          "name": "stdout",
          "text": [
            "{'Alexa'}  está leyendo\n"
          ]
        },
        {
          "output_type": "execute_result",
          "data": {
            "text/plain": [
              "'Alexa lee muy rápido'"
            ],
            "application/vnd.google.colaboratory.intrinsic+json": {
              "type": "string"
            }
          },
          "metadata": {},
          "execution_count": 63
        }
      ]
    },
    {
      "cell_type": "code",
      "source": [
        "alexandra.cojos=\"verdes\""
      ],
      "metadata": {
        "id": "t9pMTNWIWHLK"
      },
      "execution_count": 4,
      "outputs": []
    },
    {
      "cell_type": "code",
      "source": [
        "alexandra.cojos"
      ],
      "metadata": {
        "colab": {
          "base_uri": "https://localhost:8080/",
          "height": 36
        },
        "id": "iKtIgQT5WLL7",
        "outputId": "0714abe3-021b-499d-bdd5-b72ee176a187"
      },
      "execution_count": 5,
      "outputs": [
        {
          "output_type": "execute_result",
          "data": {
            "text/plain": [
              "'verdes'"
            ],
            "application/vnd.google.colaboratory.intrinsic+json": {
              "type": "string"
            }
          },
          "metadata": {},
          "execution_count": 5
        }
      ]
    },
    {
      "cell_type": "code",
      "source": [
        "alexandra.peso=90"
      ],
      "metadata": {
        "id": "OOwHGpFAWVTz"
      },
      "execution_count": 6,
      "outputs": []
    },
    {
      "cell_type": "code",
      "source": [
        "alexandra.peso"
      ],
      "metadata": {
        "colab": {
          "base_uri": "https://localhost:8080/"
        },
        "id": "4wfR84hxWZMK",
        "outputId": "7d9dc263-8b1d-4f5d-f109-2246270ecc5a"
      },
      "execution_count": 7,
      "outputs": [
        {
          "output_type": "execute_result",
          "data": {
            "text/plain": [
              "90"
            ]
          },
          "metadata": {},
          "execution_count": 7
        }
      ]
    },
    {
      "cell_type": "code",
      "source": [
        "alexandra.peso=50"
      ],
      "metadata": {
        "id": "uFJ1nrPNWd7i"
      },
      "execution_count": 8,
      "outputs": []
    },
    {
      "cell_type": "code",
      "source": [
        "alexandra.peso"
      ],
      "metadata": {
        "colab": {
          "base_uri": "https://localhost:8080/"
        },
        "id": "GXpoKjQEWjhx",
        "outputId": "4460d484-dd5b-4df9-a34a-e164f4c22ea5"
      },
      "execution_count": 11,
      "outputs": [
        {
          "output_type": "execute_result",
          "data": {
            "text/plain": [
              "50"
            ]
          },
          "metadata": {},
          "execution_count": 11
        }
      ]
    },
    {
      "cell_type": "code",
      "source": [
        "alexandra.caminar(25)"
      ],
      "metadata": {
        "colab": {
          "base_uri": "https://localhost:8080/",
          "height": 55
        },
        "id": "upqYGEeoWm1R",
        "outputId": "7dda19ca-825c-4432-c7ab-800c91c9fc9a"
      },
      "execution_count": 45,
      "outputs": [
        {
          "output_type": "stream",
          "name": "stdout",
          "text": [
            "{'Alexa'}  va pa'lante\n"
          ]
        },
        {
          "output_type": "execute_result",
          "data": {
            "text/plain": [
              "'Alexa es un amiguito de lo ajeno'"
            ],
            "application/vnd.google.colaboratory.intrinsic+json": {
              "type": "string"
            }
          },
          "metadata": {},
          "execution_count": 45
        }
      ]
    },
    {
      "cell_type": "code",
      "source": [
        "class perro():\n",
        "  def __init__(self,nombre,patas,orejas,cola,pcolor):\n",
        "    self.nombre=nombre\n",
        "    self.patas=patas\n",
        "    self.orejas=orejas\n",
        "    self.cola=cola\n",
        "    self.pcolor=pcolor\n",
        "  def ladrar(self):\n",
        "    print(\"GUAU GUAU\")\n",
        "\n",
        "  def grunir(self):\n",
        "    print(\"GRRRR GRRRR\")\n"
      ],
      "metadata": {
        "id": "sfguQDVCXPjh"
      },
      "execution_count": 47,
      "outputs": []
    },
    {
      "cell_type": "code",
      "source": [
        "class caniche(perro): #Que la clase caniche puede hacer todo lo que hace la clase perro\n",
        "  def ladrarx(self):\n",
        "    print(\"Guau guau guau guau\")\n",
        "  def grunirx(self):\n",
        "    print(\"gñiii gñiii gñiii\")\n"
      ],
      "metadata": {
        "id": "LQtmMxwLYHbx"
      },
      "execution_count": 48,
      "outputs": []
    },
    {
      "cell_type": "code",
      "source": [
        "class pastor_aleman(perro):\n",
        "  def xladrar(self):\n",
        "    print(\"GUAU GUAU GUAU GUAU GUAU\")\n",
        "  def grunir(self):\n",
        "    print(\"Agrrrgrrfff agrrrfgrr\")"
      ],
      "metadata": {
        "id": "EUGNfqlpY0sT"
      },
      "execution_count": 28,
      "outputs": []
    },
    {
      "cell_type": "code",
      "source": [
        "class rottweiler(perro):\n",
        "  def ladrarxx(self):\n",
        "    print(\"WOFF WOFF\")"
      ],
      "metadata": {
        "id": "X3OuX5fLZRjb"
      },
      "execution_count": 24,
      "outputs": []
    },
    {
      "cell_type": "code",
      "source": [
        "class Shepadoodle(caniche,pastor_aleman):\n",
        "  def xladrar(self,veces):\n",
        "    for cuantas in range(veces):\n",
        "      super(Shepadoodle,self).xladrar()"
      ],
      "metadata": {
        "id": "xSCjA6NOZn5a"
      },
      "execution_count": 30,
      "outputs": []
    },
    {
      "cell_type": "code",
      "source": [
        "#Se pueden sobreescribir características de las clases\n",
        "Tommy=pastor_aleman(\"Tommy\",4,2,1,\"marrón\")\n",
        "Lulu=caniche(\"Lulu\",4,2,1,\"blanca\")\n",
        "Milu=Shepadoodle(\"Milu\",4,2,1,\"blanco\")"
      ],
      "metadata": {
        "id": "5hqvZtq9arkq"
      },
      "execution_count": 49,
      "outputs": []
    },
    {
      "cell_type": "code",
      "source": [
        "Milu.xladrar(2)"
      ],
      "metadata": {
        "colab": {
          "base_uri": "https://localhost:8080/"
        },
        "id": "SDmXQyyubeYv",
        "outputId": "4f45adbc-b2e5-4eee-ca50-4aee9c178fa6"
      },
      "execution_count": 50,
      "outputs": [
        {
          "output_type": "stream",
          "name": "stdout",
          "text": [
            "GUAU GUAU GUAU GUAU GUAU\n",
            "GUAU GUAU GUAU GUAU GUAU\n"
          ]
        }
      ]
    },
    {
      "cell_type": "code",
      "source": [
        "def humano():"
      ],
      "metadata": {
        "id": "G38_5fTSR81b"
      },
      "execution_count": null,
      "outputs": []
    }
  ]
}